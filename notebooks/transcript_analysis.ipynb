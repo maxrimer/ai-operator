{
 "cells": [
  {
   "cell_type": "code",
   "execution_count": 33,
   "metadata": {},
   "outputs": [],
   "source": [
    "import pandas as pd\n",
    "import re"
   ]
  },
  {
   "cell_type": "code",
   "execution_count": 44,
   "metadata": {},
   "outputs": [],
   "source": [
    "pd.set_option(\"display.max_colwidth\", None)   # показывать полную длину"
   ]
  },
  {
   "cell_type": "code",
   "execution_count": 2,
   "metadata": {},
   "outputs": [],
   "source": [
    "data_path = '../../../Downloads/AI-суфлер общий доступ/КРБ/Транскрибация/Транскриб КРБ Final.xlsx'"
   ]
  },
  {
   "cell_type": "code",
   "execution_count": 3,
   "metadata": {},
   "outputs": [],
   "source": [
    "rb_transc = pd.read_excel(data_path,\n",
    "                          sheet_name='Отфильтрованные')"
   ]
  },
  {
   "cell_type": "code",
   "execution_count": 26,
   "metadata": {},
   "outputs": [
    {
     "data": {
      "text/html": [
       "<div>\n",
       "<style scoped>\n",
       "    .dataframe tbody tr th:only-of-type {\n",
       "        vertical-align: middle;\n",
       "    }\n",
       "\n",
       "    .dataframe tbody tr th {\n",
       "        vertical-align: top;\n",
       "    }\n",
       "\n",
       "    .dataframe thead th {\n",
       "        text-align: right;\n",
       "    }\n",
       "</style>\n",
       "<table border=\"1\" class=\"dataframe\">\n",
       "  <thead>\n",
       "    <tr style=\"text-align: right;\">\n",
       "      <th></th>\n",
       "      <th>call_id</th>\n",
       "      <th>dialogue_datetime</th>\n",
       "      <th>dialogue_duration_seconds</th>\n",
       "      <th>direction</th>\n",
       "      <th>original_filename</th>\n",
       "      <th>client_phone</th>\n",
       "      <th>dialogue_language</th>\n",
       "      <th>anonymized_dialogue_text</th>\n",
       "      <th>classification_category</th>\n",
       "      <th>classification_subcategory</th>\n",
       "      <th>dialogue_type</th>\n",
       "      <th>classification_grid_compliant_flag</th>\n",
       "      <th>config_version</th>\n",
       "      <th>enhanced_anonymized_text</th>\n",
       "      <th>call_segment</th>\n",
       "      <th>destination_group</th>\n",
       "    </tr>\n",
       "  </thead>\n",
       "  <tbody>\n",
       "    <tr>\n",
       "      <th>0</th>\n",
       "      <td>1f962a241441f093c20505697d2ed</td>\n",
       "      <td>2025-06-04 10:26:27</td>\n",
       "      <td>231</td>\n",
       "      <td>Входящий</td>\n",
       "      <td>2025/06/04/2025_06_04_10_26_27_567_77766060358...</td>\n",
       "      <td>77766060358</td>\n",
       "      <td>kk</td>\n",
       "      <td>[PERSON], қайырлы [PERSON]. [PERSON] банк кеңе...</td>\n",
       "      <td>Кредит БЕЗ залога</td>\n",
       "      <td>ЕП - Статус погашения. Перепроверяет</td>\n",
       "      <td>Консультация</td>\n",
       "      <td>True</td>\n",
       "      <td>{\"category_version\": \"category_rb_v1\", \"tag_ve...</td>\n",
       "      <td>**Клиент**: [PERSON], қайырлы [PERSON]. [PERSO...</td>\n",
       "      <td>mass</td>\n",
       "      <td>CC</td>\n",
       "    </tr>\n",
       "    <tr>\n",
       "      <th>1</th>\n",
       "      <td>c0d331e41341f0881d0505697d2ed</td>\n",
       "      <td>2025-06-04 10:22:38</td>\n",
       "      <td>301</td>\n",
       "      <td>Входящий</td>\n",
       "      <td>2025/06/04/2025_06_04_10_22_38_482_77027806699...</td>\n",
       "      <td>77027806699</td>\n",
       "      <td>kk</td>\n",
       "      <td>Қайырлы [PERSON], [PERSON], банки, мейсе қанда...</td>\n",
       "      <td>Кредит БЕЗ залога</td>\n",
       "      <td>ЕП - Статус погашения. Перепроверяет</td>\n",
       "      <td>Консультация</td>\n",
       "      <td>True</td>\n",
       "      <td>{\"category_version\": \"category_rb_v1\", \"tag_ve...</td>\n",
       "      <td>**Оператор**: Сіздің қоңырауыңыз жазылыды.\\n**...</td>\n",
       "      <td>mass</td>\n",
       "      <td>CC</td>\n",
       "    </tr>\n",
       "    <tr>\n",
       "      <th>2</th>\n",
       "      <td>c2f61ece41341f088570505697d2ed</td>\n",
       "      <td>2025-06-04 10:22:21</td>\n",
       "      <td>60</td>\n",
       "      <td>Входящий</td>\n",
       "      <td>2025/06/04/2025_06_04_10_22_21_350_77081575197...</td>\n",
       "      <td>77081575197</td>\n",
       "      <td>kk</td>\n",
       "      <td>[PERSON] писада айтса, [PERSON] бағынмасыз ба?...</td>\n",
       "      <td>Кредит БЕЗ залога</td>\n",
       "      <td>Условия - Нет кредита</td>\n",
       "      <td>Консультация</td>\n",
       "      <td>True</td>\n",
       "      <td>{\"category_version\": \"category_rb_v1\", \"tag_ve...</td>\n",
       "      <td>**Оператор**: Сіздің қоңырауыңыз жазылыды.\\n**...</td>\n",
       "      <td>mass</td>\n",
       "      <td>CC</td>\n",
       "    </tr>\n",
       "    <tr>\n",
       "      <th>3</th>\n",
       "      <td>a8897e4641341f084930505697d2ed</td>\n",
       "      <td>2025-06-04 10:22:07</td>\n",
       "      <td>306</td>\n",
       "      <td>Входящий</td>\n",
       "      <td>2025/06/04/2025_06_04_10_22_07_465_7007453692_...</td>\n",
       "      <td>7007453692</td>\n",
       "      <td>kk</td>\n",
       "      <td>[PERSON] писарі [PERSON] ба? [PERSON] банк иес...</td>\n",
       "      <td>Кредит БЕЗ залога</td>\n",
       "      <td>ЕП - Статус погашения. Перепроверяет</td>\n",
       "      <td>Консультация</td>\n",
       "      <td>True</td>\n",
       "      <td>{\"category_version\": \"category_rb_v1\", \"tag_ve...</td>\n",
       "      <td>**Оператор**: [PERSON] писарі [PERSON] ба?\\n**...</td>\n",
       "      <td>mass</td>\n",
       "      <td>CC</td>\n",
       "    </tr>\n",
       "    <tr>\n",
       "      <th>4</th>\n",
       "      <td>74b2bba41341f0ad580505697d2ed</td>\n",
       "      <td>2025-06-04 10:17:51</td>\n",
       "      <td>104</td>\n",
       "      <td>Входящий</td>\n",
       "      <td>2025/06/04/2025_06_04_10_17_51_448_77019031360...</td>\n",
       "      <td>77019031360</td>\n",
       "      <td>ru</td>\n",
       "      <td>Добрый день, [PERSON]. Меня зовут [PERSON]. Мо...</td>\n",
       "      <td>Кредит БЕЗ залога</td>\n",
       "      <td>ЕП - Статус погашения. Перепроверяет</td>\n",
       "      <td>Консультация</td>\n",
       "      <td>True</td>\n",
       "      <td>{\"category_version\": \"category_rb_v1\", \"tag_ve...</td>\n",
       "      <td>**Оператор**: Добрый день, [PERSON]. Меня зову...</td>\n",
       "      <td>mass</td>\n",
       "      <td>CC</td>\n",
       "    </tr>\n",
       "  </tbody>\n",
       "</table>\n",
       "</div>"
      ],
      "text/plain": [
       "                          call_id   dialogue_datetime  \\\n",
       "0   1f962a241441f093c20505697d2ed 2025-06-04 10:26:27   \n",
       "1   c0d331e41341f0881d0505697d2ed 2025-06-04 10:22:38   \n",
       "2  c2f61ece41341f088570505697d2ed 2025-06-04 10:22:21   \n",
       "3  a8897e4641341f084930505697d2ed 2025-06-04 10:22:07   \n",
       "4   74b2bba41341f0ad580505697d2ed 2025-06-04 10:17:51   \n",
       "\n",
       "   dialogue_duration_seconds direction  \\\n",
       "0                        231  Входящий   \n",
       "1                        301  Входящий   \n",
       "2                         60  Входящий   \n",
       "3                        306  Входящий   \n",
       "4                        104  Входящий   \n",
       "\n",
       "                                   original_filename client_phone  \\\n",
       "0  2025/06/04/2025_06_04_10_26_27_567_77766060358...  77766060358   \n",
       "1  2025/06/04/2025_06_04_10_22_38_482_77027806699...  77027806699   \n",
       "2  2025/06/04/2025_06_04_10_22_21_350_77081575197...  77081575197   \n",
       "3  2025/06/04/2025_06_04_10_22_07_465_7007453692_...   7007453692   \n",
       "4  2025/06/04/2025_06_04_10_17_51_448_77019031360...  77019031360   \n",
       "\n",
       "  dialogue_language                           anonymized_dialogue_text  \\\n",
       "0                kk  [PERSON], қайырлы [PERSON]. [PERSON] банк кеңе...   \n",
       "1                kk  Қайырлы [PERSON], [PERSON], банки, мейсе қанда...   \n",
       "2                kk  [PERSON] писада айтса, [PERSON] бағынмасыз ба?...   \n",
       "3                kk  [PERSON] писарі [PERSON] ба? [PERSON] банк иес...   \n",
       "4                ru  Добрый день, [PERSON]. Меня зовут [PERSON]. Мо...   \n",
       "\n",
       "  classification_category            classification_subcategory dialogue_type  \\\n",
       "0       Кредит БЕЗ залога  ЕП - Статус погашения. Перепроверяет  Консультация   \n",
       "1       Кредит БЕЗ залога  ЕП - Статус погашения. Перепроверяет  Консультация   \n",
       "2       Кредит БЕЗ залога                 Условия - Нет кредита  Консультация   \n",
       "3       Кредит БЕЗ залога  ЕП - Статус погашения. Перепроверяет  Консультация   \n",
       "4       Кредит БЕЗ залога  ЕП - Статус погашения. Перепроверяет  Консультация   \n",
       "\n",
       "   classification_grid_compliant_flag  \\\n",
       "0                                True   \n",
       "1                                True   \n",
       "2                                True   \n",
       "3                                True   \n",
       "4                                True   \n",
       "\n",
       "                                      config_version  \\\n",
       "0  {\"category_version\": \"category_rb_v1\", \"tag_ve...   \n",
       "1  {\"category_version\": \"category_rb_v1\", \"tag_ve...   \n",
       "2  {\"category_version\": \"category_rb_v1\", \"tag_ve...   \n",
       "3  {\"category_version\": \"category_rb_v1\", \"tag_ve...   \n",
       "4  {\"category_version\": \"category_rb_v1\", \"tag_ve...   \n",
       "\n",
       "                            enhanced_anonymized_text call_segment  \\\n",
       "0  **Клиент**: [PERSON], қайырлы [PERSON]. [PERSO...         mass   \n",
       "1  **Оператор**: Сіздің қоңырауыңыз жазылыды.\\n**...         mass   \n",
       "2  **Оператор**: Сіздің қоңырауыңыз жазылыды.\\n**...         mass   \n",
       "3  **Оператор**: [PERSON] писарі [PERSON] ба?\\n**...         mass   \n",
       "4  **Оператор**: Добрый день, [PERSON]. Меня зову...         mass   \n",
       "\n",
       "  destination_group  \n",
       "0                CC  \n",
       "1                CC  \n",
       "2                CC  \n",
       "3                CC  \n",
       "4                CC  "
      ]
     },
     "execution_count": 26,
     "metadata": {},
     "output_type": "execute_result"
    }
   ],
   "source": [
    "rb_transc.head(5)"
   ]
  },
  {
   "cell_type": "code",
   "execution_count": 6,
   "metadata": {},
   "outputs": [
    {
     "data": {
      "text/plain": [
       "7677"
      ]
     },
     "execution_count": 6,
     "metadata": {},
     "output_type": "execute_result"
    }
   ],
   "source": [
    "rb_transc.call_id.nunique()"
   ]
  },
  {
   "cell_type": "code",
   "execution_count": 11,
   "metadata": {},
   "outputs": [
    {
     "data": {
      "text/plain": [
       "dialogue_language\n",
       "kk    4930\n",
       "ru    2784\n",
       "Name: count, dtype: int64"
      ]
     },
     "execution_count": 11,
     "metadata": {},
     "output_type": "execute_result"
    }
   ],
   "source": [
    "rb_transc.dialogue_language.value_counts()"
   ]
  },
  {
   "cell_type": "code",
   "execution_count": 13,
   "metadata": {},
   "outputs": [
    {
     "data": {
      "text/plain": [
       "classification_category\n",
       "Кредит БЕЗ залога    6923\n",
       "Ипотека               366\n",
       "Автокредит            236\n",
       "Кредит ПОД залог      106\n",
       "Кредитная карта        83\n",
       "Name: count, dtype: int64"
      ]
     },
     "execution_count": 13,
     "metadata": {},
     "output_type": "execute_result"
    }
   ],
   "source": [
    "rb_transc.classification_category.value_counts()"
   ]
  },
  {
   "cell_type": "code",
   "execution_count": 15,
   "metadata": {},
   "outputs": [
    {
     "data": {
      "text/plain": [
       "classification_subcategory\n",
       "ЕП - Статус погашения. Перепроверяет                   4242\n",
       "ЕП - Способы оплаты                                    1020\n",
       "Условия - Нет кредита                                   859\n",
       "ЕП - Статус погашения. Не списался из-за ВЫХ/ПРАЗДН     580\n",
       "Сумма просрочки                                         558\n",
       "Условия - Есть кредит                                   455\n",
       "Name: count, dtype: int64"
      ]
     },
     "execution_count": 15,
     "metadata": {},
     "output_type": "execute_result"
    }
   ],
   "source": [
    "rb_transc.classification_subcategory.value_counts()"
   ]
  },
  {
   "cell_type": "code",
   "execution_count": 30,
   "metadata": {},
   "outputs": [
    {
     "data": {
      "text/html": [
       "<div>\n",
       "<style scoped>\n",
       "    .dataframe tbody tr th:only-of-type {\n",
       "        vertical-align: middle;\n",
       "    }\n",
       "\n",
       "    .dataframe tbody tr th {\n",
       "        vertical-align: top;\n",
       "    }\n",
       "\n",
       "    .dataframe thead th {\n",
       "        text-align: right;\n",
       "    }\n",
       "</style>\n",
       "<table border=\"1\" class=\"dataframe\">\n",
       "  <thead>\n",
       "    <tr style=\"text-align: right;\">\n",
       "      <th></th>\n",
       "      <th>call_id</th>\n",
       "      <th>dialogue_datetime</th>\n",
       "      <th>dialogue_duration_seconds</th>\n",
       "      <th>direction</th>\n",
       "      <th>original_filename</th>\n",
       "      <th>client_phone</th>\n",
       "      <th>dialogue_language</th>\n",
       "      <th>anonymized_dialogue_text</th>\n",
       "      <th>classification_category</th>\n",
       "      <th>classification_subcategory</th>\n",
       "      <th>dialogue_type</th>\n",
       "      <th>classification_grid_compliant_flag</th>\n",
       "      <th>config_version</th>\n",
       "      <th>enhanced_anonymized_text</th>\n",
       "      <th>call_segment</th>\n",
       "      <th>destination_group</th>\n",
       "    </tr>\n",
       "  </thead>\n",
       "  <tbody>\n",
       "    <tr>\n",
       "      <th>0</th>\n",
       "      <td>1f962a241441f093c20505697d2ed</td>\n",
       "      <td>2025-06-04 10:26:27</td>\n",
       "      <td>231</td>\n",
       "      <td>Входящий</td>\n",
       "      <td>2025/06/04/2025_06_04_10_26_27_567_77766060358...</td>\n",
       "      <td>77766060358</td>\n",
       "      <td>kk</td>\n",
       "      <td>[PERSON], қайырлы [PERSON]. [PERSON] банк кеңе...</td>\n",
       "      <td>Кредит БЕЗ залога</td>\n",
       "      <td>ЕП - Статус погашения. Перепроверяет</td>\n",
       "      <td>Консультация</td>\n",
       "      <td>True</td>\n",
       "      <td>{\"category_version\": \"category_rb_v1\", \"tag_ve...</td>\n",
       "      <td>**Клиент**: [PERSON], қайырлы [PERSON]. [PERSO...</td>\n",
       "      <td>mass</td>\n",
       "      <td>CC</td>\n",
       "    </tr>\n",
       "    <tr>\n",
       "      <th>1</th>\n",
       "      <td>c0d331e41341f0881d0505697d2ed</td>\n",
       "      <td>2025-06-04 10:22:38</td>\n",
       "      <td>301</td>\n",
       "      <td>Входящий</td>\n",
       "      <td>2025/06/04/2025_06_04_10_22_38_482_77027806699...</td>\n",
       "      <td>77027806699</td>\n",
       "      <td>kk</td>\n",
       "      <td>Қайырлы [PERSON], [PERSON], банки, мейсе қанда...</td>\n",
       "      <td>Кредит БЕЗ залога</td>\n",
       "      <td>ЕП - Статус погашения. Перепроверяет</td>\n",
       "      <td>Консультация</td>\n",
       "      <td>True</td>\n",
       "      <td>{\"category_version\": \"category_rb_v1\", \"tag_ve...</td>\n",
       "      <td>**Оператор**: Сіздің қоңырауыңыз жазылыды.\\n**...</td>\n",
       "      <td>mass</td>\n",
       "      <td>CC</td>\n",
       "    </tr>\n",
       "  </tbody>\n",
       "</table>\n",
       "</div>"
      ],
      "text/plain": [
       "                         call_id   dialogue_datetime  \\\n",
       "0  1f962a241441f093c20505697d2ed 2025-06-04 10:26:27   \n",
       "1  c0d331e41341f0881d0505697d2ed 2025-06-04 10:22:38   \n",
       "\n",
       "   dialogue_duration_seconds direction  \\\n",
       "0                        231  Входящий   \n",
       "1                        301  Входящий   \n",
       "\n",
       "                                   original_filename client_phone  \\\n",
       "0  2025/06/04/2025_06_04_10_26_27_567_77766060358...  77766060358   \n",
       "1  2025/06/04/2025_06_04_10_22_38_482_77027806699...  77027806699   \n",
       "\n",
       "  dialogue_language                           anonymized_dialogue_text  \\\n",
       "0                kk  [PERSON], қайырлы [PERSON]. [PERSON] банк кеңе...   \n",
       "1                kk  Қайырлы [PERSON], [PERSON], банки, мейсе қанда...   \n",
       "\n",
       "  classification_category            classification_subcategory dialogue_type  \\\n",
       "0       Кредит БЕЗ залога  ЕП - Статус погашения. Перепроверяет  Консультация   \n",
       "1       Кредит БЕЗ залога  ЕП - Статус погашения. Перепроверяет  Консультация   \n",
       "\n",
       "   classification_grid_compliant_flag  \\\n",
       "0                                True   \n",
       "1                                True   \n",
       "\n",
       "                                      config_version  \\\n",
       "0  {\"category_version\": \"category_rb_v1\", \"tag_ve...   \n",
       "1  {\"category_version\": \"category_rb_v1\", \"tag_ve...   \n",
       "\n",
       "                            enhanced_anonymized_text call_segment  \\\n",
       "0  **Клиент**: [PERSON], қайырлы [PERSON]. [PERSO...         mass   \n",
       "1  **Оператор**: Сіздің қоңырауыңыз жазылыды.\\n**...         mass   \n",
       "\n",
       "  destination_group  \n",
       "0                CC  \n",
       "1                CC  "
      ]
     },
     "execution_count": 30,
     "metadata": {},
     "output_type": "execute_result"
    }
   ],
   "source": [
    "rb_transc.head(2)"
   ]
  },
  {
   "cell_type": "code",
   "execution_count": 31,
   "metadata": {},
   "outputs": [],
   "source": [
    "rb_transc_rel = rb_transc[['client_phone', 'dialogue_language', 'classification_category', 'classification_subcategory', 'enhanced_anonymized_text']]"
   ]
  },
  {
   "cell_type": "code",
   "execution_count": 42,
   "metadata": {},
   "outputs": [
    {
     "data": {
      "text/html": [
       "<div>\n",
       "<style scoped>\n",
       "    .dataframe tbody tr th:only-of-type {\n",
       "        vertical-align: middle;\n",
       "    }\n",
       "\n",
       "    .dataframe tbody tr th {\n",
       "        vertical-align: top;\n",
       "    }\n",
       "\n",
       "    .dataframe thead th {\n",
       "        text-align: right;\n",
       "    }\n",
       "</style>\n",
       "<table border=\"1\" class=\"dataframe\">\n",
       "  <thead>\n",
       "    <tr style=\"text-align: right;\">\n",
       "      <th></th>\n",
       "      <th>client_phone</th>\n",
       "      <th>dialogue_language</th>\n",
       "      <th>classification_category</th>\n",
       "      <th>classification_subcategory</th>\n",
       "      <th>enhanced_anonymized_text</th>\n",
       "    </tr>\n",
       "  </thead>\n",
       "  <tbody>\n",
       "    <tr>\n",
       "      <th>0</th>\n",
       "      <td>77766060358</td>\n",
       "      <td>kk</td>\n",
       "      <td>Кредит БЕЗ залога</td>\n",
       "      <td>ЕП - Статус погашения. Перепроверяет</td>\n",
       "      <td>**Клиент**: [PERSON], қайырлы [PERSON]. [PERSO...</td>\n",
       "    </tr>\n",
       "    <tr>\n",
       "      <th>1</th>\n",
       "      <td>77027806699</td>\n",
       "      <td>kk</td>\n",
       "      <td>Кредит БЕЗ залога</td>\n",
       "      <td>ЕП - Статус погашения. Перепроверяет</td>\n",
       "      <td>**Оператор**: Сіздің қоңырауыңыз жазылыды.\\n**...</td>\n",
       "    </tr>\n",
       "    <tr>\n",
       "      <th>2</th>\n",
       "      <td>77081575197</td>\n",
       "      <td>kk</td>\n",
       "      <td>Кредит БЕЗ залога</td>\n",
       "      <td>Условия - Нет кредита</td>\n",
       "      <td>**Оператор**: Сіздің қоңырауыңыз жазылыды.\\n**...</td>\n",
       "    </tr>\n",
       "    <tr>\n",
       "      <th>3</th>\n",
       "      <td>7007453692</td>\n",
       "      <td>kk</td>\n",
       "      <td>Кредит БЕЗ залога</td>\n",
       "      <td>ЕП - Статус погашения. Перепроверяет</td>\n",
       "      <td>**Оператор**: [PERSON] писарі [PERSON] ба?\\n**...</td>\n",
       "    </tr>\n",
       "    <tr>\n",
       "      <th>4</th>\n",
       "      <td>77019031360</td>\n",
       "      <td>ru</td>\n",
       "      <td>Кредит БЕЗ залога</td>\n",
       "      <td>ЕП - Статус погашения. Перепроверяет</td>\n",
       "      <td>**Оператор**: Добрый день, [PERSON]. Меня зову...</td>\n",
       "    </tr>\n",
       "  </tbody>\n",
       "</table>\n",
       "</div>"
      ],
      "text/plain": [
       "  client_phone dialogue_language classification_category  \\\n",
       "0  77766060358                kk       Кредит БЕЗ залога   \n",
       "1  77027806699                kk       Кредит БЕЗ залога   \n",
       "2  77081575197                kk       Кредит БЕЗ залога   \n",
       "3   7007453692                kk       Кредит БЕЗ залога   \n",
       "4  77019031360                ru       Кредит БЕЗ залога   \n",
       "\n",
       "             classification_subcategory  \\\n",
       "0  ЕП - Статус погашения. Перепроверяет   \n",
       "1  ЕП - Статус погашения. Перепроверяет   \n",
       "2                 Условия - Нет кредита   \n",
       "3  ЕП - Статус погашения. Перепроверяет   \n",
       "4  ЕП - Статус погашения. Перепроверяет   \n",
       "\n",
       "                            enhanced_anonymized_text  \n",
       "0  **Клиент**: [PERSON], қайырлы [PERSON]. [PERSO...  \n",
       "1  **Оператор**: Сіздің қоңырауыңыз жазылыды.\\n**...  \n",
       "2  **Оператор**: Сіздің қоңырауыңыз жазылыды.\\n**...  \n",
       "3  **Оператор**: [PERSON] писарі [PERSON] ба?\\n**...  \n",
       "4  **Оператор**: Добрый день, [PERSON]. Меня зову...  "
      ]
     },
     "execution_count": 42,
     "metadata": {},
     "output_type": "execute_result"
    }
   ],
   "source": [
    "rb_transc_rel.head()"
   ]
  },
  {
   "cell_type": "code",
   "execution_count": null,
   "metadata": {},
   "outputs": [],
   "source": [
    "print(rb_transc.loc[4, 'enhanced_anonymized_text'])"
   ]
  },
  {
   "cell_type": "code",
   "execution_count": 34,
   "metadata": {},
   "outputs": [],
   "source": [
    "SPEAKER_RE = re.compile(r\"\\*\\*(Оператор|Клиент)\\*\\*:\")\n",
    "\n",
    "def turns_to_pairs(text: str) -> list[tuple[str, str]]:\n",
    "    \"\"\"\n",
    "    Из полного текста диалога делаем пары (client_text, operator_text).\n",
    "    Реплики одного и того же спикера подряд склеиваются.\n",
    "    Пролог оператора до первой фразы клиента выбрасывается.\n",
    "    \"\"\"\n",
    "    # 1. объединяем подряд идущие реплики одного спикера\n",
    "    turns, cur_spk, buf = [], None, []\n",
    "    for chunk in re.split(SPEAKER_RE, text):\n",
    "        if chunk in {\"Оператор\", \"Клиент\"}:\n",
    "            if buf:\n",
    "                turns.append((cur_spk, \" \".join(buf).strip()))\n",
    "                buf = []\n",
    "            cur_spk = chunk\n",
    "        else:\n",
    "            buf.append(chunk.strip())\n",
    "    if buf:\n",
    "        turns.append((cur_spk, \" \".join(buf).strip()))\n",
    "\n",
    "    # 2. убираем пролог оператора\n",
    "    while turns and turns[0][0] == \"Оператор\":\n",
    "        turns.pop(0)\n",
    "\n",
    "    # 3. формируем пары Клиент-Оператор\n",
    "    pairs = []\n",
    "    i = 0\n",
    "    while i < len(turns) - 1:\n",
    "        spk, q = turns[i]\n",
    "        nxt_spk, a = turns[i + 1]\n",
    "        if spk == \"Клиент\" and nxt_spk == \"Оператор\":\n",
    "            pairs.append((q, a))\n",
    "            i += 2\n",
    "        else:\n",
    "            i += 1\n",
    "    return pairs\n",
    "\n",
    "# ---------- превращаем исходный df в «развернутый» ----------\n",
    "rows = []\n",
    "for _, row in rb_transc_rel.iterrows():\n",
    "    for client_q, oper_a in turns_to_pairs(row[\"enhanced_anonymized_text\"]):\n",
    "        rows.append({\n",
    "            \"client_phone\":           row[\"client_phone\"],\n",
    "            \"dialogue_language\":      row[\"dialogue_language\"],\n",
    "            \"classification_category\":    row[\"classification_category\"],\n",
    "            \"classification_subcategory\": row[\"classification_subcategory\"],\n",
    "            \"client_text\":            client_q,\n",
    "            \"operator_text\":          oper_a,\n",
    "        })\n",
    "\n",
    "rb_transc_rel_upd = pd.DataFrame(rows)\n"
   ]
  },
  {
   "cell_type": "code",
   "execution_count": 46,
   "metadata": {},
   "outputs": [
    {
     "name": "stdout",
     "output_type": "stream",
     "text": [
      "26                                                                   Они упадут с [NUMBER] до [NUMBER] рабочих день. По платежным требованиям деньги не сразу поступают. Как поступят, банк за счет погашения кредита отправит. Но банк только списывает ежемесячные платежи. Если в этот период пения будет накаплено, пению необходимо клиент самим оплатить.\n",
      "27    [PERSON]. В данный момент у вас [NUMBER] тенге [NUMBER]. Вам необходимо не хватавшую сумму самим оплатить. Когда деньги поступят, мы за счет погашения кредита отправим. Если вчера списали, сегодня возможно упадут, потому что вчерашние деньги, сегодня только можно посмотреть. Возможно упадут. Как упадет, банк за счет погашения кредита отправит.\n",
      "28                                                                                                             Ну, банк только спишет ежемесячные платежи, пению необходимо самим оплатить. Ну, [NUMBER] с лишним положите и лишнюю сумму банк придет на тот счет, который банк получил. Вам необходимо на текущий счет положить, с текущего счета банк спишет.\n",
      "29                                                                                                                                                                                                                                                                                                                                           Еще вопросы будут?\n",
      "30                                                                                                                                                                                                                                                                               [PERSON]. Тогда вам спасибо большое за обращение. Всего хорошего. До свидания.\n",
      "Name: operator_text, dtype: object\n"
     ]
    }
   ],
   "source": [
    "print(rb_transc_rel_upd[rb_transc_rel_upd['client_phone'] == '77019031360'].loc[:, 'operator_text'])"
   ]
  },
  {
   "cell_type": "code",
   "execution_count": 64,
   "metadata": {},
   "outputs": [
    {
     "name": "stdout",
     "output_type": "stream",
     "text": [
      "**Оператор**: Добрый день, меня зовут [PERSON], чем я могу вам помочь?\n",
      "**Клиент**: Ну, я еще не смотрел ничего.\n",
      "**Клиент**: Да, по - [PERSON].\n",
      "**Клиент**: А где надо смотреть?\n",
      "**Клиент**: Вот это скажите.\n",
      "**Клиент**: Ну, вы же говорите, сообщение пришло.\n",
      "**Клиент**: Ну, вот [NUMBER] мне, это, вчера говорил, тоже сообщение должно прийти, ничего не.\n",
      "**Клиент**: Ну, я не знаю, где смотреть его, где должен увидеть.\n",
      "**Клиент**: А вы когда писали?\n",
      "**Клиент**: По - моему, в пятницу.\n",
      "**Оператор**: Хорошо, можно ваш [PERSON]?\n",
      "**Клиент**: [NUMBER].\n",
      "**Оператор**: Хорошо, проверяем, ожидайте на линии.\n",
      "**Оператор**: Спасибо за ожидание, вы можете мне сказать номер кредита, который вы брали, или же сумму, или же дату?\n",
      "**Клиент**: Это надо зайти сейчас.\n",
      "**Оператор**: Да, вы можете в мобильном приложении посмотреть.\n",
      "**Клиент**: Сейчас, [NUMBER].\n",
      "**Клиент**: А в мобильном приложении куда надо зайти?\n",
      "**Оператор**: В мобильном приложении там у вас кредиты есть.\n",
      "**Оператор**: Туда нажимаете, там вся информация.\n",
      "**Клиент**: Мои продукты, кредиты.\n",
      "**Клиент**: Сейчас, секунду, я зайду в информацию.\n",
      "**Клиент**: Вот сюда, вот.\n",
      "**Клиент**: Так, [NUMBER], [PERSON] Bereke Bank [NUMBER] [DATETIME].\n",
      "**Оператор**: [PERSON]?\n",
      "**Клиент**: Да, я слышала.\n",
      "**Оператор**: [PERSON] можете озвучить?\n",
      "**Клиент**: Еще раз.\n",
      "**Оператор**: Сумму, сумму, какую вы оформляли сумму?\n",
      "**Клиент**: А, подождите, оформлял сумму.\n",
      "**Клиент**: А реквизиты не пойдет?\n",
      "**Оператор**: Реквизиты, или же кредитный договор, номер кредитного договора, дату, или же сумму.\n",
      "**Оператор**: Вот на эти [NUMBER] вопроса вам нужно будет ответить, потому что вы звоните не со своего номера.\n",
      "**Оператор**: Ваш номер [NUMBER].\n",
      "**Клиент**: Ну, [NUMBER] у меня на этой симке.\n",
      "**Оператор**: Я поняла.\n",
      "**Клиент**: [PERSON], понял я.\n",
      "**Клиент**: Так.\n",
      "**Оператор**: Сумму или же дату можете посмотреть.\n",
      "**Клиент**: В выписках может быть?\n",
      "**Оператор**: Нет, вы же нажимали на мои продукты, кредиты.\n",
      "**Оператор**: Можете номер договора еще раз повторить?\n",
      "**Клиент**: Сейчас, сейчас, сейчас, мои продукты, подождите.\n",
      "**Оператор**: Кредиты, там вся информация есть.\n",
      "**Клиент**: Уведомление.\n",
      "**Оператор**: У вас получилось найти?\n",
      "**Клиент**: Нет, нет, нет.\n",
      "**Клиент**: [PERSON], нет, подожди.\n",
      "**Клиент**: Сейчас, сейчас.\n",
      "**Клиент**: Секунду, секунду, секунду.\n",
      "**Клиент**: Тут вот пишет только скачать документы по кредитам.\n",
      "**Оператор**: Хорошо, вы только что мне продиктовали же номер кредитного договора.\n",
      "**Оператор**: Можете еще раз продиктовать?\n",
      "**Оператор**: Или вы потеряли его?\n",
      "**Клиент**: Сейчас зайду опять, подождите.\n",
      "**Оператор**: [PERSON] же можете со своего номера позвонить, по которому вы зарегистрированы в нашем банке.\n",
      "**Клиент**: Сейчас, сейчас, сейчас.\n",
      "**Клиент**: Секунду, секунду, секунду.\n",
      "**Клиент**: [PERSON].\n",
      "**Оператор**: Вы можете или же найти и перезвонить.\n",
      "**Оператор**: Я вас долго не могу держать на линии.\n",
      "**Клиент**: Хорошо, давайте я перезвоню сейчас.\n",
      "**Оператор**: [PERSON] со своего номера можете позвонить, по которому вы зарегистрированы.\n",
      "**Клиент**: Понял, [PERSON], [PERSON].\n",
      "**Клиент**: Сейчас [PERSON].\n",
      "**Клиент**: [PERSON].\n",
      "\n"
     ]
    }
   ],
   "source": [
    "print(rb_transc.loc[10, 'enhanced_anonymized_text'])"
   ]
  },
  {
   "cell_type": "code",
   "execution_count": 47,
   "metadata": {},
   "outputs": [
    {
     "data": {
      "text/plain": [
       "(49967, 6)"
      ]
     },
     "execution_count": 47,
     "metadata": {},
     "output_type": "execute_result"
    }
   ],
   "source": [
    "rb_transc_rel_upd.shape"
   ]
  },
  {
   "cell_type": "code",
   "execution_count": 49,
   "metadata": {},
   "outputs": [
    {
     "data": {
      "text/plain": [
       "['client_phone', 'dialogue_language', 'classification_category', 'classification_subcategory', 'client_text', 'operator_text']"
      ]
     },
     "execution_count": 49,
     "metadata": {},
     "output_type": "execute_result"
    }
   ],
   "source": [
    "rb_transc_rel_upd.columns.tolist()"
   ]
  },
  {
   "cell_type": "code",
   "execution_count": 51,
   "metadata": {},
   "outputs": [
    {
     "name": "stdout",
     "output_type": "stream",
     "text": [
      "passage: [PERSON], қайырлы [PERSON]. [PERSON] банк кеңесімен айналысқан. Мына курста аламын. [PERSON] де, просрочный [NUMBER] [DATETIME] болып еді де, [NUMBER] төлейтінмін. Кеше барып [PERSON] банктен [NUMBER] [PERSON] болатынмын. Енді мен Каспи банкім ы әр ретте түрде жаңағы [NUMBER] деп и [NUMBER] төлеуіңіз керек деп тұр. [NUMBER] шықты. Түсінбей тұрмын соны сіздің атыңызға рәсімделген бе?\n",
      "passage: [PERSON] клиенттің өзіне [PERSON] аласыз ба? Мен өзім төлеп тұр ғой. Қазір [PERSON] жоқ. жоқ. Қандай суммаға рәсімделіңіз?\n",
      "passage: Иә, соны енді мен кеше төледім. Ақшам болмағаннан кеше төледім. [NUMBER]. Сондай төлеуім керек еді. Кеше [NUMBER] төледім. Енді мен [PLACE_NAME] немді неге қойып қойыпты? Ограничение қанша? Енді и [NUMBER] задол істейді. Ол енді келесі Айдікі болу керексің бе? Мен енді мынаны төледім ғой сеннен. [NUMBER] қайтадан төлеймін ғой\n",
      "passage: [PERSON]. Махаббат, [PERSON], еркек [PERSON] ай, [PERSON] анаға алып келіп отырмын ғой деймін. [PERSON].\n",
      "passage: [PERSON] де ше? [NUMBER], және де [NUMBER] тұр да, ол не ақша? Түсінбедік?\n"
     ]
    }
   ],
   "source": [
    "for txt in [\"passage: \" + q for q in rb_transc_rel_upd[\"client_text\"][:5].tolist()]:\n",
    "    print(txt)"
   ]
  },
  {
   "cell_type": "code",
   "execution_count": 57,
   "metadata": {},
   "outputs": [
    {
     "name": "stdout",
     "output_type": "stream",
     "text": [
      "[PERSON] де ше? [NUMBER], және де [NUMBER] тұр да, ол не ақша? Түсінбедік?\n"
     ]
    }
   ],
   "source": [
    "print(rb_transc_rel_upd.loc[4, 'client_text'])"
   ]
  },
  {
   "cell_type": "code",
   "execution_count": 61,
   "metadata": {},
   "outputs": [
    {
     "name": "stdout",
     "output_type": "stream",
     "text": [
      "kept 24621 / 49967 rows (25346 removed)\n"
     ]
    }
   ],
   "source": [
    "TOKEN_RE   = re.compile(r\"\\[[A-Z_]+\\]\")          \n",
    "WORD_RE    = re.compile(r\"[A-Za-zА-Яа-яЁёЇїІіӘәӨөҰұҚқҺһҢң]+\", re.U)\n",
    "\n",
    "def strip_tokens(text: str) -> str:\n",
    "    \"\"\"Убирает [PERSON], [NUMBER] и т.п. + лишние пробелы.\"\"\"\n",
    "    return TOKEN_RE.sub(\"\", text).replace(\"  \", \" \").strip()\n",
    "\n",
    "def enough_words(text: str, min_len=4) -> bool:\n",
    "    \"\"\"≥ min_len реальных слов (после удаления [TOKENS]).\"\"\"\n",
    "    return len(WORD_RE.findall(strip_tokens(text))) >= min_len\n",
    "\n",
    "def clean_pairs(df: pd.DataFrame) -> pd.DataFrame:\n",
    "    mask = df[\"client_text\"].apply(enough_words) & df[\"operator_text\"].apply(enough_words)\n",
    "    df2  = df.loc[mask].copy()\n",
    "    return df2.reset_index(drop=True)\n",
    "\n",
    "# ----- применение -----\n",
    "df_pairs_cln = clean_pairs(rb_transc_rel_upd)\n",
    "\n",
    "print(f\"kept {len(df_pairs_cln)} / {len(rb_transc_rel_upd)} rows \"\n",
    "      f\"({len(rb_transc_rel_upd)-len(df_pairs_cln)} removed)\")\n"
   ]
  },
  {
   "cell_type": "code",
   "execution_count": 62,
   "metadata": {},
   "outputs": [
    {
     "data": {
      "text/html": [
       "<div>\n",
       "<style scoped>\n",
       "    .dataframe tbody tr th:only-of-type {\n",
       "        vertical-align: middle;\n",
       "    }\n",
       "\n",
       "    .dataframe tbody tr th {\n",
       "        vertical-align: top;\n",
       "    }\n",
       "\n",
       "    .dataframe thead th {\n",
       "        text-align: right;\n",
       "    }\n",
       "</style>\n",
       "<table border=\"1\" class=\"dataframe\">\n",
       "  <thead>\n",
       "    <tr style=\"text-align: right;\">\n",
       "      <th></th>\n",
       "      <th>client_phone</th>\n",
       "      <th>dialogue_language</th>\n",
       "      <th>classification_category</th>\n",
       "      <th>classification_subcategory</th>\n",
       "      <th>client_text</th>\n",
       "      <th>operator_text</th>\n",
       "    </tr>\n",
       "  </thead>\n",
       "  <tbody>\n",
       "    <tr>\n",
       "      <th>0</th>\n",
       "      <td>77766060358</td>\n",
       "      <td>kk</td>\n",
       "      <td>Кредит БЕЗ залога</td>\n",
       "      <td>ЕП - Статус погашения. Перепроверяет</td>\n",
       "      <td>[PERSON], қайырлы [PERSON]. [PERSON] банк кеңесімен айналысқан. Мына курста аламын. [PERSON] де, просрочный [NUMBER] [DATETIME] болып еді де, [NUMBER] төлейтінмін. Кеше барып [PERSON] банктен [NUMBER] [PERSON] болатынмын. Енді мен Каспи банкім ы әр ретте түрде жаңағы [NUMBER] деп и [NUMBER] төлеуіңіз керек деп тұр. [NUMBER] шықты. Түсінбей тұрмын соны сіздің атыңызға рәсімделген бе?</td>\n",
       "      <td>Иә, иә, [NUMBER], [NUMBER], [NUMBER] ы, [NUMBER], [NUMBER], [NUMBER], [NUMBER]. Иә, хабарласып тұр екенсіз, несие бойынша ақпаратағы басқаерсеңіз, несие бойынша келісімшарттың номері немесе нақты несиеге рәсімдеген суммаңыз немесе [NUMBER] алған ғой.</td>\n",
       "    </tr>\n",
       "    <tr>\n",
       "      <th>1</th>\n",
       "      <td>77766060358</td>\n",
       "      <td>kk</td>\n",
       "      <td>Кредит БЕЗ залога</td>\n",
       "      <td>ЕП - Статус погашения. Перепроверяет</td>\n",
       "      <td>[PERSON] клиенттің өзіне [PERSON] аласыз ба? Мен өзім төлеп тұр ғой. Қазір [PERSON] жоқ. жоқ. Қандай суммаға рәсімделіңіз?</td>\n",
       "      <td>[NUMBER]. Қазір сізде қандай сұрақ болып тұр? Сұрағыңызды қайталасаңыз, мен мына мен негізі рас болып кеткен ғой. [NUMBER] [DATETIME] ше?</td>\n",
       "    </tr>\n",
       "    <tr>\n",
       "      <th>2</th>\n",
       "      <td>77766060358</td>\n",
       "      <td>kk</td>\n",
       "      <td>Кредит БЕЗ залога</td>\n",
       "      <td>ЕП - Статус погашения. Перепроверяет</td>\n",
       "      <td>Иә, соны енді мен кеше төледім. Ақшам болмағаннан кеше төледім. [NUMBER]. Сондай төлеуім керек еді. Кеше [NUMBER] төледім. Енді мен [PLACE_NAME] немді неге қойып қойыпты? Ограничение қанша? Енді и [NUMBER] задол істейді. Ол енді келесі Айдікі болу керексің бе? Мен енді мынаны төледім ғой сеннен. [NUMBER] қайтадан төлеймін ғой</td>\n",
       "      <td>Мен сіз түсіндім, қазір неше [NUMBER] ақпаратты көретін боламын деп отырасың.</td>\n",
       "    </tr>\n",
       "    <tr>\n",
       "      <th>3</th>\n",
       "      <td>77766060358</td>\n",
       "      <td>kk</td>\n",
       "      <td>Кредит БЕЗ залога</td>\n",
       "      <td>ЕП - Статус погашения. Перепроверяет</td>\n",
       "      <td>[PERSON]. Махаббат, [PERSON], еркек [PERSON] ай, [PERSON] анаға алып келіп отырмын ғой деймін. [PERSON].</td>\n",
       "      <td>Кешіріңіз әлі желдеспе сізде. Иә, несие бойынша кешегі [DATETIME] жасаған екен ғой. Банк алдында. Енді сізге күту қажетағы басқаолды. Бүгін түстен кейін [PERSON] Bereke Bankке ақпаратағы басқаеретін болады. Банк алдында ешқандай қарыздар берешегі жоқ деген Ол ақпарат жіберген бұғаттарыңыздан барлығы [NUMBER] жұмыстың арасында алынады. Сізге күту қажет.</td>\n",
       "    </tr>\n",
       "    <tr>\n",
       "      <th>4</th>\n",
       "      <td>77766060358</td>\n",
       "      <td>kk</td>\n",
       "      <td>Кредит БЕЗ залога</td>\n",
       "      <td>ЕП - Статус погашения. Перепроверяет</td>\n",
       "      <td>[PERSON] де ше? [NUMBER], және де [NUMBER] тұр да, ол не ақша? Түсінбедік?</td>\n",
       "      <td>Біз сізде [NUMBER]. Ол қалып тұрған ақшаңыз, Яғни, төлем жасаған, Сосын одан қалған [NUMBER]. Иә, орысша айтқанда, текущий қыздар тұр. Ал [NUMBER]. Сіз қайдан көріп тұрсыз?</td>\n",
       "    </tr>\n",
       "  </tbody>\n",
       "</table>\n",
       "</div>"
      ],
      "text/plain": [
       "  client_phone dialogue_language classification_category  \\\n",
       "0  77766060358                kk       Кредит БЕЗ залога   \n",
       "1  77766060358                kk       Кредит БЕЗ залога   \n",
       "2  77766060358                kk       Кредит БЕЗ залога   \n",
       "3  77766060358                kk       Кредит БЕЗ залога   \n",
       "4  77766060358                kk       Кредит БЕЗ залога   \n",
       "\n",
       "             classification_subcategory  \\\n",
       "0  ЕП - Статус погашения. Перепроверяет   \n",
       "1  ЕП - Статус погашения. Перепроверяет   \n",
       "2  ЕП - Статус погашения. Перепроверяет   \n",
       "3  ЕП - Статус погашения. Перепроверяет   \n",
       "4  ЕП - Статус погашения. Перепроверяет   \n",
       "\n",
       "                                                                                                                                                                                                                                                                                                                                                                                         client_text  \\\n",
       "0  [PERSON], қайырлы [PERSON]. [PERSON] банк кеңесімен айналысқан. Мына курста аламын. [PERSON] де, просрочный [NUMBER] [DATETIME] болып еді де, [NUMBER] төлейтінмін. Кеше барып [PERSON] банктен [NUMBER] [PERSON] болатынмын. Енді мен Каспи банкім ы әр ретте түрде жаңағы [NUMBER] деп и [NUMBER] төлеуіңіз керек деп тұр. [NUMBER] шықты. Түсінбей тұрмын соны сіздің атыңызға рәсімделген бе?   \n",
       "1                                                                                                                                                                                                                                                                         [PERSON] клиенттің өзіне [PERSON] аласыз ба? Мен өзім төлеп тұр ғой. Қазір [PERSON] жоқ. жоқ. Қандай суммаға рәсімделіңіз?   \n",
       "2                                                            Иә, соны енді мен кеше төледім. Ақшам болмағаннан кеше төледім. [NUMBER]. Сондай төлеуім керек еді. Кеше [NUMBER] төледім. Енді мен [PLACE_NAME] немді неге қойып қойыпты? Ограничение қанша? Енді и [NUMBER] задол істейді. Ол енді келесі Айдікі болу керексің бе? Мен енді мынаны төледім ғой сеннен. [NUMBER] қайтадан төлеймін ғой   \n",
       "3                                                                                                                                                                                                                                                                                           [PERSON]. Махаббат, [PERSON], еркек [PERSON] ай, [PERSON] анаға алып келіп отырмын ғой деймін. [PERSON].   \n",
       "4                                                                                                                                                                                                                                                                                                                         [PERSON] де ше? [NUMBER], және де [NUMBER] тұр да, ол не ақша? Түсінбедік?   \n",
       "\n",
       "                                                                                                                                                                                                                                                                                                                                                        operator_text  \n",
       "0                                                                                                          Иә, иә, [NUMBER], [NUMBER], [NUMBER] ы, [NUMBER], [NUMBER], [NUMBER], [NUMBER]. Иә, хабарласып тұр екенсіз, несие бойынша ақпаратағы басқаерсеңіз, несие бойынша келісімшарттың номері немесе нақты несиеге рәсімдеген суммаңыз немесе [NUMBER] алған ғой.  \n",
       "1                                                                                                                                                                                                                           [NUMBER]. Қазір сізде қандай сұрақ болып тұр? Сұрағыңызды қайталасаңыз, мен мына мен негізі рас болып кеткен ғой. [NUMBER] [DATETIME] ше?  \n",
       "2                                                                                                                                                                                                                                                                                       Мен сіз түсіндім, қазір неше [NUMBER] ақпаратты көретін боламын деп отырасың.  \n",
       "3  Кешіріңіз әлі желдеспе сізде. Иә, несие бойынша кешегі [DATETIME] жасаған екен ғой. Банк алдында. Енді сізге күту қажетағы басқаолды. Бүгін түстен кейін [PERSON] Bereke Bankке ақпаратағы басқаеретін болады. Банк алдында ешқандай қарыздар берешегі жоқ деген Ол ақпарат жіберген бұғаттарыңыздан барлығы [NUMBER] жұмыстың арасында алынады. Сізге күту қажет.  \n",
       "4                                                                                                                                                                                        Біз сізде [NUMBER]. Ол қалып тұрған ақшаңыз, Яғни, төлем жасаған, Сосын одан қалған [NUMBER]. Иә, орысша айтқанда, текущий қыздар тұр. Ал [NUMBER]. Сіз қайдан көріп тұрсыз?  "
      ]
     },
     "execution_count": 62,
     "metadata": {},
     "output_type": "execute_result"
    }
   ],
   "source": [
    "df_pairs_cln.head()"
   ]
  },
  {
   "cell_type": "code",
   "execution_count": null,
   "metadata": {},
   "outputs": [],
   "source": []
  },
  {
   "cell_type": "code",
   "execution_count": 63,
   "metadata": {},
   "outputs": [],
   "source": [
    "df_pairs_cln.to_parquet('../data/df_pairs_cln.parquet', engine='fastparquet')"
   ]
  },
  {
   "cell_type": "code",
   "execution_count": null,
   "metadata": {},
   "outputs": [],
   "source": []
  },
  {
   "cell_type": "code",
   "execution_count": null,
   "metadata": {},
   "outputs": [],
   "source": []
  },
  {
   "cell_type": "code",
   "execution_count": null,
   "metadata": {},
   "outputs": [],
   "source": []
  },
  {
   "cell_type": "code",
   "execution_count": null,
   "metadata": {},
   "outputs": [],
   "source": []
  },
  {
   "cell_type": "code",
   "execution_count": null,
   "metadata": {},
   "outputs": [],
   "source": []
  },
  {
   "cell_type": "code",
   "execution_count": null,
   "metadata": {},
   "outputs": [],
   "source": []
  },
  {
   "cell_type": "code",
   "execution_count": null,
   "metadata": {},
   "outputs": [],
   "source": []
  },
  {
   "cell_type": "code",
   "execution_count": null,
   "metadata": {},
   "outputs": [],
   "source": []
  }
 ],
 "metadata": {
  "kernelspec": {
   "display_name": "henv",
   "language": "python",
   "name": "python3"
  },
  "language_info": {
   "codemirror_mode": {
    "name": "ipython",
    "version": 3
   },
   "file_extension": ".py",
   "mimetype": "text/x-python",
   "name": "python",
   "nbconvert_exporter": "python",
   "pygments_lexer": "ipython3",
   "version": "3.11.0"
  }
 },
 "nbformat": 4,
 "nbformat_minor": 2
}
