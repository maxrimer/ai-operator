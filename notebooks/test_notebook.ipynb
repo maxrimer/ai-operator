{
 "cells": [
  {
   "cell_type": "code",
   "execution_count": 1,
   "metadata": {},
   "outputs": [
    {
     "data": {
      "text/plain": [
       "True"
      ]
     },
     "execution_count": 1,
     "metadata": {},
     "output_type": "execute_result"
    }
   ],
   "source": [
    "from dotenv import load_dotenv\n",
    "load_dotenv()"
   ]
  },
  {
   "cell_type": "code",
   "execution_count": 2,
   "metadata": {},
   "outputs": [],
   "source": [
    "import os\n",
    "\n",
    "DB_USER = os.environ['DB_USER']\n",
    "DB_PASSWORD = os.environ['DB_PASSWORD']\n",
    "DB_HOST = os.environ['DB_HOST']\n",
    "DB_PORT = os.environ['DB_PORT']\n",
    "DB_NAME = os.environ['DB_NAME']"
   ]
  },
  {
   "cell_type": "code",
   "execution_count": 3,
   "metadata": {},
   "outputs": [
    {
     "data": {
      "text/plain": [
       "'operator_db'"
      ]
     },
     "execution_count": 3,
     "metadata": {},
     "output_type": "execute_result"
    }
   ],
   "source": [
    "DB_NAME"
   ]
  },
  {
   "cell_type": "code",
   "execution_count": 9,
   "metadata": {},
   "outputs": [
    {
     "name": "stdout",
     "output_type": "stream",
     "text": [
      "Список таблиц в базе данных:\n",
      "chats\n",
      "alembic_version\n",
      "Успешно подключено к базе данных!\n"
     ]
    }
   ],
   "source": [
    "from urllib.parse import quote_plus\n",
    "from sqlalchemy import create_engine, inspect\n",
    "\n",
    "# Создание строки подключения\n",
    "encoded_password = quote_plus(DB_PASSWORD)\n",
    "connection_string = f'postgresql://{DB_USER}:{encoded_password}@{DB_HOST}:{DB_PORT}/{DB_NAME}'\n",
    "\n",
    "# Создание движка\n",
    "engine = create_engine(connection_string)\n",
    "\n",
    "# Создание инспектора\n",
    "inspector = inspect(engine)\n",
    "\n",
    "# Получение списка таблиц\n",
    "tables = inspector.get_table_names()\n",
    "\n",
    "# Вывод списка таблиц\n",
    "print(\"Список таблиц в базе данных:\")\n",
    "for table in tables:\n",
    "    print(table)\n",
    "\n",
    "# Тестирование подключения\n",
    "try:\n",
    "    with engine.connect() as connection:\n",
    "        print(\"Успешно подключено к базе данных!\")\n",
    "except Exception as e:\n",
    "    print(f\"Ошибка подключения к базе данных: {e}\")"
   ]
  },
  {
   "cell_type": "code",
   "execution_count": 13,
   "metadata": {},
   "outputs": [
    {
     "name": "stdout",
     "output_type": "stream",
     "text": [
      "\n",
      "Данные из таблицы chats:\n",
      "Столбцы: RMKeyView(['id', 'messages', 'created_at', 'updated_at', 'summary', 'status', 'customer_number'])\n",
      "(3, None, datetime.datetime(2025, 6, 12, 18, 59, 12, 492666, tzinfo=datetime.timezone.utc), None, None, 'active', None)\n",
      "(1, [{'date': '2025-06-13T00:42:52.808875', 'role': 'operator', 'text': 'qanagattandyrylmagandyqtarynyzdan', 'is_used': False, 'dialog_id': -1, 'hint_type': None}], datetime.datetime(2025, 6, 12, 18, 33, 43, 815635, tzinfo=datetime.timezone.utc), datetime.datetime(2025, 6, 12, 19, 43, 29, 965800, tzinfo=datetime.timezone.utc), None, 'active', None)\n",
      "(2, [{'date': '2025-06-13T00:46:08.146465', 'role': 'operator', 'text': 'test', 'is_used': True, 'dialog_id': 0, 'hint_type': None}, {'date': '2025-06-13T00:54:05.870444', 'role': 'client', 'text': 'hi', 'is_used': True, 'dialog_id': 1, 'hint_type': None}], datetime.datetime(2025, 6, 12, 18, 33, 51, 118600, tzinfo=datetime.timezone.utc), datetime.datetime(2025, 6, 12, 20, 41, 8, 847936, tzinfo=datetime.timezone.utc), None, 'closed', None)\n",
      "(4, None, datetime.datetime(2025, 6, 13, 5, 59, 13, 695712, tzinfo=datetime.timezone.utc), None, None, 'active', None)\n",
      "(5, None, datetime.datetime(2025, 6, 13, 6, 39, 2, 945244, tzinfo=datetime.timezone.utc), None, None, 'active', None)\n",
      "(6, None, datetime.datetime(2025, 6, 13, 6, 39, 3, 62290, tzinfo=datetime.timezone.utc), None, None, 'active', None)\n",
      "(7, None, datetime.datetime(2025, 6, 13, 6, 39, 43, 510788, tzinfo=datetime.timezone.utc), None, None, 'active', None)\n",
      "(8, None, datetime.datetime(2025, 6, 13, 6, 39, 50, 132404, tzinfo=datetime.timezone.utc), None, None, 'active', None)\n",
      "(9, None, datetime.datetime(2025, 6, 13, 6, 41, 1, 604352, tzinfo=datetime.timezone.utc), None, None, 'active', None)\n",
      "(10, None, datetime.datetime(2025, 6, 13, 6, 41, 11, 152592, tzinfo=datetime.timezone.utc), None, None, 'active', None)\n",
      "(11, None, datetime.datetime(2025, 6, 13, 6, 42, 35, 859132, tzinfo=datetime.timezone.utc), None, None, 'active', None)\n"
     ]
    }
   ],
   "source": [
    "from sqlalchemy.sql import text\n",
    "\n",
    "\n",
    "TABLE_NAME = 'chats'\n",
    "\n",
    "# Выполнение SELECT-запроса\n",
    "try:\n",
    "    with engine.connect() as connection:\n",
    "        # Пример простого SELECT-запроса\n",
    "        query = text(f\"SELECT * FROM {TABLE_NAME}\")\n",
    "        result = connection.execute(query)\n",
    "        \n",
    "        # Получение всех строк\n",
    "        rows = result.fetchall()\n",
    "        \n",
    "        # Получение названий столбцов\n",
    "        columns = result.keys()\n",
    "        \n",
    "        # Вывод результатов\n",
    "        print(f\"\\nДанные из таблицы {TABLE_NAME}:\")\n",
    "        print(f\"Столбцы: {columns}\")\n",
    "        for row in rows:\n",
    "            print(row)\n",
    "            \n",
    "except Exception as e:\n",
    "    print(f\"Ошибка при выполнении запроса: {e}\")"
   ]
  },
  {
   "cell_type": "code",
   "execution_count": null,
   "metadata": {},
   "outputs": [],
   "source": []
  },
  {
   "cell_type": "code",
   "execution_count": null,
   "metadata": {},
   "outputs": [],
   "source": [
    "id: int\n",
    "client_number: str = '777 777 77 77'\n",
    "dialog_text: dict"
   ]
  }
 ],
 "metadata": {
  "kernelspec": {
   "display_name": "venv",
   "language": "python",
   "name": "python3"
  },
  "language_info": {
   "codemirror_mode": {
    "name": "ipython",
    "version": 3
   },
   "file_extension": ".py",
   "mimetype": "text/x-python",
   "name": "python",
   "nbconvert_exporter": "python",
   "pygments_lexer": "ipython3",
   "version": "3.11.9"
  }
 },
 "nbformat": 4,
 "nbformat_minor": 2
}
