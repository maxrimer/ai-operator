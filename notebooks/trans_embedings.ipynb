{
 "cells": [
  {
   "cell_type": "code",
   "execution_count": 1,
   "metadata": {},
   "outputs": [
    {
     "name": "stderr",
     "output_type": "stream",
     "text": [
      "/Users/maximrimer/PycharmProjects/ai-operator/henv/lib/python3.11/site-packages/tqdm/auto.py:21: TqdmWarning: IProgress not found. Please update jupyter and ipywidgets. See https://ipywidgets.readthedocs.io/en/stable/user_install.html\n",
      "  from .autonotebook import tqdm as notebook_tqdm\n"
     ]
    }
   ],
   "source": [
    "import pandas as pd\n",
    "import re\n",
    "\n",
    "from sentence_transformers import SentenceTransformer\n",
    "import numpy as np, faiss, pickle, pathlib"
   ]
  },
  {
   "cell_type": "code",
   "execution_count": 7,
   "metadata": {},
   "outputs": [],
   "source": [
    "df_pairs = pd.read_parquet('../data/df_pairs_cln.parquet')"
   ]
  },
  {
   "cell_type": "code",
   "execution_count": 8,
   "metadata": {},
   "outputs": [
    {
     "data": {
      "text/html": [
       "<div>\n",
       "<style scoped>\n",
       "    .dataframe tbody tr th:only-of-type {\n",
       "        vertical-align: middle;\n",
       "    }\n",
       "\n",
       "    .dataframe tbody tr th {\n",
       "        vertical-align: top;\n",
       "    }\n",
       "\n",
       "    .dataframe thead th {\n",
       "        text-align: right;\n",
       "    }\n",
       "</style>\n",
       "<table border=\"1\" class=\"dataframe\">\n",
       "  <thead>\n",
       "    <tr style=\"text-align: right;\">\n",
       "      <th></th>\n",
       "      <th>client_phone</th>\n",
       "      <th>dialogue_language</th>\n",
       "      <th>classification_category</th>\n",
       "      <th>classification_subcategory</th>\n",
       "      <th>client_text</th>\n",
       "      <th>operator_text</th>\n",
       "    </tr>\n",
       "  </thead>\n",
       "  <tbody>\n",
       "    <tr>\n",
       "      <th>0</th>\n",
       "      <td>77766060358</td>\n",
       "      <td>kk</td>\n",
       "      <td>Кредит БЕЗ залога</td>\n",
       "      <td>ЕП - Статус погашения. Перепроверяет</td>\n",
       "      <td>[PERSON], қайырлы [PERSON]. [PERSON] банк кеңе...</td>\n",
       "      <td>Иә, иә, [NUMBER], [NUMBER], [NUMBER] ы, [NUMBE...</td>\n",
       "    </tr>\n",
       "    <tr>\n",
       "      <th>1</th>\n",
       "      <td>77766060358</td>\n",
       "      <td>kk</td>\n",
       "      <td>Кредит БЕЗ залога</td>\n",
       "      <td>ЕП - Статус погашения. Перепроверяет</td>\n",
       "      <td>[PERSON] клиенттің өзіне [PERSON] аласыз ба? М...</td>\n",
       "      <td>[NUMBER]. Қазір сізде қандай сұрақ болып тұр? ...</td>\n",
       "    </tr>\n",
       "    <tr>\n",
       "      <th>2</th>\n",
       "      <td>77766060358</td>\n",
       "      <td>kk</td>\n",
       "      <td>Кредит БЕЗ залога</td>\n",
       "      <td>ЕП - Статус погашения. Перепроверяет</td>\n",
       "      <td>Иә, соны енді мен кеше төледім. Ақшам болмаған...</td>\n",
       "      <td>Мен сіз түсіндім, қазір неше [NUMBER] ақпаратт...</td>\n",
       "    </tr>\n",
       "    <tr>\n",
       "      <th>3</th>\n",
       "      <td>77766060358</td>\n",
       "      <td>kk</td>\n",
       "      <td>Кредит БЕЗ залога</td>\n",
       "      <td>ЕП - Статус погашения. Перепроверяет</td>\n",
       "      <td>[PERSON]. Махаббат, [PERSON], еркек [PERSON] а...</td>\n",
       "      <td>Кешіріңіз әлі желдеспе сізде. Иә, несие бойынш...</td>\n",
       "    </tr>\n",
       "    <tr>\n",
       "      <th>4</th>\n",
       "      <td>77766060358</td>\n",
       "      <td>kk</td>\n",
       "      <td>Кредит БЕЗ залога</td>\n",
       "      <td>ЕП - Статус погашения. Перепроверяет</td>\n",
       "      <td>[PERSON] де ше? [NUMBER], және де [NUMBER] тұр...</td>\n",
       "      <td>Біз сізде [NUMBER]. Ол қалып тұрған ақшаңыз, Я...</td>\n",
       "    </tr>\n",
       "  </tbody>\n",
       "</table>\n",
       "</div>"
      ],
      "text/plain": [
       "  client_phone dialogue_language classification_category  \\\n",
       "0  77766060358                kk       Кредит БЕЗ залога   \n",
       "1  77766060358                kk       Кредит БЕЗ залога   \n",
       "2  77766060358                kk       Кредит БЕЗ залога   \n",
       "3  77766060358                kk       Кредит БЕЗ залога   \n",
       "4  77766060358                kk       Кредит БЕЗ залога   \n",
       "\n",
       "             classification_subcategory  \\\n",
       "0  ЕП - Статус погашения. Перепроверяет   \n",
       "1  ЕП - Статус погашения. Перепроверяет   \n",
       "2  ЕП - Статус погашения. Перепроверяет   \n",
       "3  ЕП - Статус погашения. Перепроверяет   \n",
       "4  ЕП - Статус погашения. Перепроверяет   \n",
       "\n",
       "                                         client_text  \\\n",
       "0  [PERSON], қайырлы [PERSON]. [PERSON] банк кеңе...   \n",
       "1  [PERSON] клиенттің өзіне [PERSON] аласыз ба? М...   \n",
       "2  Иә, соны енді мен кеше төледім. Ақшам болмаған...   \n",
       "3  [PERSON]. Махаббат, [PERSON], еркек [PERSON] а...   \n",
       "4  [PERSON] де ше? [NUMBER], және де [NUMBER] тұр...   \n",
       "\n",
       "                                       operator_text  \n",
       "0  Иә, иә, [NUMBER], [NUMBER], [NUMBER] ы, [NUMBE...  \n",
       "1  [NUMBER]. Қазір сізде қандай сұрақ болып тұр? ...  \n",
       "2  Мен сіз түсіндім, қазір неше [NUMBER] ақпаратт...  \n",
       "3  Кешіріңіз әлі желдеспе сізде. Иә, несие бойынш...  \n",
       "4  Біз сізде [NUMBER]. Ол қалып тұрған ақшаңыз, Я...  "
      ]
     },
     "execution_count": 8,
     "metadata": {},
     "output_type": "execute_result"
    }
   ],
   "source": [
    "df_pairs.head()"
   ]
  },
  {
   "cell_type": "code",
   "execution_count": 9,
   "metadata": {},
   "outputs": [
    {
     "data": {
      "text/plain": [
       "(24621, 6)"
      ]
     },
     "execution_count": 9,
     "metadata": {},
     "output_type": "execute_result"
    }
   ],
   "source": [
    "df_pairs.shape"
   ]
  },
  {
   "cell_type": "code",
   "execution_count": 10,
   "metadata": {},
   "outputs": [],
   "source": [
    "df_pairs = (df_pairs\n",
    "            .dropna(subset=[\"client_text\", \"operator_text\"])\n",
    "            .drop_duplicates(subset=[\"client_text\", \"operator_text\"]))"
   ]
  },
  {
   "cell_type": "code",
   "execution_count": 11,
   "metadata": {},
   "outputs": [
    {
     "data": {
      "text/plain": [
       "(24606, 6)"
      ]
     },
     "execution_count": 11,
     "metadata": {},
     "output_type": "execute_result"
    }
   ],
   "source": [
    "df_pairs.shape"
   ]
  },
  {
   "cell_type": "code",
   "execution_count": 5,
   "metadata": {},
   "outputs": [],
   "source": [
    "MODEL_NAME = \"intfloat/multilingual-e5-large\"\n",
    "model = SentenceTransformer(MODEL_NAME, device=\"mps\")"
   ]
  },
  {
   "cell_type": "code",
   "execution_count": 12,
   "metadata": {},
   "outputs": [],
   "source": [
    "passages = [\"passage: \" + q for q in df_pairs[\"client_text\"].tolist()]\n",
    "embs = model.encode(passages, batch_size=128, normalize_embeddings=True)"
   ]
  },
  {
   "cell_type": "code",
   "execution_count": 13,
   "metadata": {},
   "outputs": [
    {
     "name": "stdout",
     "output_type": "stream",
     "text": [
      "1024\n"
     ]
    }
   ],
   "source": [
    "vec_dim = embs.shape[1]\n",
    "print(vec_dim)"
   ]
  },
  {
   "cell_type": "code",
   "execution_count": 14,
   "metadata": {},
   "outputs": [],
   "source": [
    "index = faiss.IndexFlatIP(vec_dim)"
   ]
  },
  {
   "cell_type": "code",
   "execution_count": 15,
   "metadata": {},
   "outputs": [],
   "source": [
    "index.add(np.asarray(embs, dtype=\"float32\"))"
   ]
  },
  {
   "cell_type": "code",
   "execution_count": 19,
   "metadata": {},
   "outputs": [],
   "source": [
    "def retrieve_operator_reply(query: str, k: int = 1) -> list[dict]:\n",
    "    vec = model.encode([\"query: \" + query], normalize_embeddings=True)\n",
    "    sims, idxs = index.search(np.asarray(vec, dtype=\"float32\"), k)\n",
    "    out = []\n",
    "    for sim, idx in zip(sims[0], idxs[0]):\n",
    "        if idx == -1:\n",
    "            continue\n",
    "        row = df_pairs.iloc[idx]\n",
    "        out.append({\n",
    "            \"answer\": row[\"operator_text\"],\n",
    "            \"source\": row[\"client_text\"],\n",
    "            \"sim\": float(sim)\n",
    "        })\n",
    "    return out"
   ]
  },
  {
   "cell_type": "code",
   "execution_count": 23,
   "metadata": {},
   "outputs": [],
   "source": [
    "test_query = \"В каком разделе мобильного приложения надо смотреть?\""
   ]
  },
  {
   "cell_type": "code",
   "execution_count": 26,
   "metadata": {},
   "outputs": [
    {
     "name": "stdout",
     "output_type": "stream",
     "text": [
      "Получается, у меня ограничение.\n"
     ]
    }
   ],
   "source": [
    "print(retrieve_operator_reply(test_query)[0][\"answer\"])"
   ]
  },
  {
   "cell_type": "code",
   "execution_count": 27,
   "metadata": {},
   "outputs": [],
   "source": [
    "faiss.write_index(index, \"../data/faiss_e5_transcripts.index\")\n",
    "df_pairs.to_parquet(\"../data/q_a_transcripts.parquet\")"
   ]
  },
  {
   "cell_type": "code",
   "execution_count": null,
   "metadata": {},
   "outputs": [],
   "source": []
  },
  {
   "cell_type": "code",
   "execution_count": null,
   "metadata": {},
   "outputs": [],
   "source": []
  },
  {
   "cell_type": "code",
   "execution_count": null,
   "metadata": {},
   "outputs": [],
   "source": []
  }
 ],
 "metadata": {
  "kernelspec": {
   "display_name": "henv",
   "language": "python",
   "name": "python3"
  },
  "language_info": {
   "codemirror_mode": {
    "name": "ipython",
    "version": 3
   },
   "file_extension": ".py",
   "mimetype": "text/x-python",
   "name": "python",
   "nbconvert_exporter": "python",
   "pygments_lexer": "ipython3",
   "version": "3.11.0"
  }
 },
 "nbformat": 4,
 "nbformat_minor": 2
}
